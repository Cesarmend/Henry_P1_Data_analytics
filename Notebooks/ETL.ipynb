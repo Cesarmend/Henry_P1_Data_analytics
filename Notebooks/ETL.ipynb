{
 "cells": [
  {
   "cell_type": "markdown",
   "metadata": {},
   "source": [
    "# LIBRERIAS Y DEPENDENCIAS"
   ]
  },
  {
   "cell_type": "code",
   "execution_count": 1,
   "metadata": {},
   "outputs": [],
   "source": [
    "import pandas as pd # --> Libreria para el manejo de dataframes a partir de los documentos cargados\n",
    "import numpy as np # --> Para operaciones numericas y manipulacion de matrices\n",
    "import warnings # --> Filtro de advertencias para ignorarlas y mantener el código limpio de mensajes no deseados\n",
    "warnings.filterwarnings(\"ignore\")\n",
    "import matplotlib.pyplot as plt # --> para creacrion de grafico de valores nulos\n",
    "import missingno as msno # --> junto con plt para comprobar mapa de valores nulos"
   ]
  },
  {
   "cell_type": "markdown",
   "metadata": {},
   "source": [
    "______________________________________________________________________________________________________________________________________________________"
   ]
  },
  {
   "cell_type": "markdown",
   "metadata": {},
   "source": [
    "# 1. ETL"
   ]
  },
  {
   "cell_type": "markdown",
   "metadata": {},
   "source": [
    "## 1A. A partir de los archivos xlsx relacionados con el servicio de internet, se procedio a ANALIZAR y TRANSFORMAR aquellos que eran mas relevantes. Inicialmente se comenzo con \"Internet/ Accesos_tecnologia_localidad\" para posteriormente continuar con los demas en bloque."
   ]
  },
  {
   "cell_type": "code",
   "execution_count": 2,
   "metadata": {},
   "outputs": [],
   "source": [
    "Acc_tec_loc = pd.read_excel('../Datasets/Internet.xlsx',sheet_name='Accesos_tecnologia_localidad')"
   ]
  },
  {
   "cell_type": "code",
   "execution_count": 3,
   "metadata": {},
   "outputs": [
    {
     "data": {
      "text/plain": [
       "(3352, 13)"
      ]
     },
     "execution_count": 3,
     "metadata": {},
     "output_type": "execute_result"
    }
   ],
   "source": [
    "Acc_tec_loc.shape"
   ]
  },
  {
   "cell_type": "markdown",
   "metadata": {},
   "source": [
    "## INFORMACION GENERAL DEL DATAFRAME DE INTERES"
   ]
  },
  {
   "cell_type": "code",
   "execution_count": 4,
   "metadata": {},
   "outputs": [
    {
     "name": "stdout",
     "output_type": "stream",
     "text": [
      "<class 'pandas.core.frame.DataFrame'>\n",
      "RangeIndex: 3352 entries, 0 to 3351\n",
      "Data columns (total 13 columns):\n",
      " #   Column         Non-Null Count  Dtype \n",
      "---  ------         --------------  ----- \n",
      " 0   Provincia      3072 non-null   object\n",
      " 1   Partido        3072 non-null   object\n",
      " 2   Localidad      3072 non-null   object\n",
      " 3   Link Indec     3072 non-null   object\n",
      " 4   ADSL           3352 non-null   int64 \n",
      " 5   CABLEMODEM     3352 non-null   int64 \n",
      " 6   DIAL UP        3352 non-null   int64 \n",
      " 7   FIBRA OPTICA   3352 non-null   int64 \n",
      " 8   OTROS          3352 non-null   int64 \n",
      " 9   SATELITAL      3352 non-null   int64 \n",
      " 10  WIMAX          3352 non-null   int64 \n",
      " 11  WIRELESS       3352 non-null   int64 \n",
      " 12  Total general  3352 non-null   int64 \n",
      "dtypes: int64(9), object(4)\n",
      "memory usage: 340.6+ KB\n"
     ]
    }
   ],
   "source": [
    "Acc_tec_loc.info()"
   ]
  },
  {
   "cell_type": "markdown",
   "metadata": {},
   "source": [
    "## ANALISIS DE DUPLICADOS"
   ]
  },
  {
   "cell_type": "code",
   "execution_count": 5,
   "metadata": {},
   "outputs": [
    {
     "data": {
      "text/plain": [
       "279"
      ]
     },
     "execution_count": 5,
     "metadata": {},
     "output_type": "execute_result"
    }
   ],
   "source": [
    "Acc_tec_loc.duplicated().sum()"
   ]
  },
  {
   "cell_type": "code",
   "execution_count": 6,
   "metadata": {},
   "outputs": [
    {
     "name": "stdout",
     "output_type": "stream",
     "text": [
      "(3073, 13)\n"
     ]
    }
   ],
   "source": [
    "Acc_tec_loc = Acc_tec_loc.drop_duplicates()\n",
    "print(Acc_tec_loc.shape)"
   ]
  },
  {
   "cell_type": "markdown",
   "metadata": {},
   "source": [
    "## ANALISIS DE STRING VACIOS"
   ]
  },
  {
   "cell_type": "code",
   "execution_count": 7,
   "metadata": {},
   "outputs": [
    {
     "name": "stdout",
     "output_type": "stream",
     "text": [
      "Provincia        0\n",
      "Partido          0\n",
      "Localidad        0\n",
      "Link Indec       0\n",
      "ADSL             0\n",
      "CABLEMODEM       0\n",
      "DIAL UP          0\n",
      "FIBRA OPTICA     0\n",
      "OTROS            0\n",
      "SATELITAL        0\n",
      "WIMAX            0\n",
      "WIRELESS         0\n",
      "Total general    0\n",
      "dtype: int64\n"
     ]
    }
   ],
   "source": [
    "empty_string_count = Acc_tec_loc.apply(lambda x: (x == \"\").sum())\n",
    "\n",
    "print(empty_string_count)"
   ]
  },
  {
   "cell_type": "markdown",
   "metadata": {},
   "source": [
    "## ANALISIS DE VALORES NULOS"
   ]
  },
  {
   "cell_type": "code",
   "execution_count": 8,
   "metadata": {},
   "outputs": [
    {
     "data": {
      "text/plain": [
       "Provincia        1\n",
       "Partido          1\n",
       "Localidad        1\n",
       "Link Indec       1\n",
       "ADSL             0\n",
       "CABLEMODEM       0\n",
       "DIAL UP          0\n",
       "FIBRA OPTICA     0\n",
       "OTROS            0\n",
       "SATELITAL        0\n",
       "WIMAX            0\n",
       "WIRELESS         0\n",
       "Total general    0\n",
       "dtype: int64"
      ]
     },
     "execution_count": 8,
     "metadata": {},
     "output_type": "execute_result"
    }
   ],
   "source": [
    "Acc_tec_loc.isnull().sum()"
   ]
  },
  {
   "cell_type": "markdown",
   "metadata": {},
   "source": [
    "PORCENTAJE DE NULOS"
   ]
  },
  {
   "cell_type": "code",
   "execution_count": 9,
   "metadata": {},
   "outputs": [
    {
     "name": "stdout",
     "output_type": "stream",
     "text": [
      "Provincia        0.032541\n",
      "Partido          0.032541\n",
      "Localidad        0.032541\n",
      "Link Indec       0.032541\n",
      "ADSL             0.000000\n",
      "CABLEMODEM       0.000000\n",
      "DIAL UP          0.000000\n",
      "FIBRA OPTICA     0.000000\n",
      "OTROS            0.000000\n",
      "SATELITAL        0.000000\n",
      "WIMAX            0.000000\n",
      "WIRELESS         0.000000\n",
      "Total general    0.000000\n",
      "dtype: float64\n"
     ]
    }
   ],
   "source": [
    "# Calcular el porcentaje de valores nulos en cada columna\n",
    "porcentage_Acc_tec_loc = Acc_tec_loc.isnull().mean() * 100\n",
    "\n",
    "# Mostrar los resultados\n",
    "print(porcentage_Acc_tec_loc)"
   ]
  },
  {
   "cell_type": "markdown",
   "metadata": {},
   "source": [
    "ELIMINACION DE NULOS"
   ]
  },
  {
   "cell_type": "code",
   "execution_count": 10,
   "metadata": {},
   "outputs": [],
   "source": [
    "Acc_tec_loc=Acc_tec_loc.dropna()"
   ]
  },
  {
   "cell_type": "code",
   "execution_count": 11,
   "metadata": {},
   "outputs": [
    {
     "data": {
      "text/plain": [
       "Provincia        0\n",
       "Partido          0\n",
       "Localidad        0\n",
       "Link Indec       0\n",
       "ADSL             0\n",
       "CABLEMODEM       0\n",
       "DIAL UP          0\n",
       "FIBRA OPTICA     0\n",
       "OTROS            0\n",
       "SATELITAL        0\n",
       "WIMAX            0\n",
       "WIRELESS         0\n",
       "Total general    0\n",
       "dtype: int64"
      ]
     },
     "execution_count": 11,
     "metadata": {},
     "output_type": "execute_result"
    }
   ],
   "source": [
    "Acc_tec_loc.isnull().sum()"
   ]
  },
  {
   "cell_type": "markdown",
   "metadata": {},
   "source": [
    "VERIFICACION VALORES FALTANTES"
   ]
  },
  {
   "cell_type": "code",
   "execution_count": 12,
   "metadata": {},
   "outputs": [
    {
     "data": {
      "text/plain": [
       "False"
      ]
     },
     "execution_count": 12,
     "metadata": {},
     "output_type": "execute_result"
    }
   ],
   "source": [
    "Acc_tec_loc.isnull().any().any()"
   ]
  },
  {
   "cell_type": "code",
   "execution_count": 13,
   "metadata": {},
   "outputs": [],
   "source": [
    "import missingno as msno\n",
    "import matplotlib.pyplot as plt\n",
    "\n",
    "# Visualización simple de los valores faltantes\n",
    "# msno.matrix(Acc_tec_loc)\n",
    "# plt.show()\n",
    "\n",
    "# Visualización de un heatmap para mostrar correlaciones entre valores faltantes\n",
    "# msno.heatmap(Acc_tec_loc)\n",
    "# plt.show()"
   ]
  },
  {
   "cell_type": "markdown",
   "metadata": {},
   "source": [
    "## OBS: Del conjunto de codigo anterior de plt.show() se concluyo que definitivamente el dataframe ya no tiene valores faltantes ni nulos, aunque este comentado el codigo."
   ]
  },
  {
   "cell_type": "markdown",
   "metadata": {},
   "source": [
    "## ANALISIS Y COONVERSION DEL TIPO DE DATO"
   ]
  },
  {
   "cell_type": "code",
   "execution_count": 14,
   "metadata": {},
   "outputs": [
    {
     "data": {
      "text/plain": [
       "Provincia        object\n",
       "Partido          object\n",
       "Localidad        object\n",
       "Link Indec       object\n",
       "ADSL              int64\n",
       "CABLEMODEM        int64\n",
       "DIAL UP           int64\n",
       "FIBRA OPTICA      int64\n",
       "OTROS             int64\n",
       "SATELITAL         int64\n",
       "WIMAX             int64\n",
       "WIRELESS          int64\n",
       "Total general     int64\n",
       "dtype: object"
      ]
     },
     "execution_count": 14,
     "metadata": {},
     "output_type": "execute_result"
    }
   ],
   "source": [
    "Acc_tec_loc.dtypes"
   ]
  },
  {
   "cell_type": "markdown",
   "metadata": {},
   "source": [
    "CONVERSION DE OBJECT TYPE A STRING"
   ]
  },
  {
   "cell_type": "code",
   "execution_count": 15,
   "metadata": {},
   "outputs": [
    {
     "name": "stdout",
     "output_type": "stream",
     "text": [
      "Provincia        string\n",
      "Partido          string\n",
      "Localidad        string\n",
      "Link Indec       string\n",
      "ADSL              int64\n",
      "CABLEMODEM        int64\n",
      "DIAL UP           int64\n",
      "FIBRA OPTICA      int64\n",
      "OTROS             int64\n",
      "SATELITAL         int64\n",
      "WIMAX             int64\n",
      "WIRELESS          int64\n",
      "Total general     int64\n",
      "dtype: object\n"
     ]
    }
   ],
   "source": [
    "# Cambiar el tipo de las columnas de object a string\n",
    "Acc_tec_loc['Provincia'] = Acc_tec_loc['Provincia'].astype('string')\n",
    "Acc_tec_loc['Partido'] = Acc_tec_loc['Partido'].astype('string')\n",
    "Acc_tec_loc['Localidad'] = Acc_tec_loc['Localidad'].astype('string')\n",
    "Acc_tec_loc['Link Indec'] = Acc_tec_loc['Link Indec'].astype('string')\n",
    "\n",
    "# Verificar el cambio de tipo\n",
    "print(Acc_tec_loc.dtypes)\n"
   ]
  },
  {
   "cell_type": "markdown",
   "metadata": {},
   "source": [
    "## DATAFRAME PROCESADO"
   ]
  },
  {
   "cell_type": "code",
   "execution_count": 16,
   "metadata": {},
   "outputs": [],
   "source": [
    "Acc_tec_loc.to_excel('../Datasets/Clean_data/cleaned_acc_tec_loc.xlsx', index= False)"
   ]
  },
  {
   "cell_type": "markdown",
   "metadata": {},
   "source": [
    "______________________________________________________________________________________________________________________________________________________"
   ]
  },
  {
   "cell_type": "markdown",
   "metadata": {},
   "source": [
    "# 1B. Se aplicara el proceso anterior para el proceso de todos los datasets en bloque"
   ]
  },
  {
   "cell_type": "markdown",
   "metadata": {},
   "source": [
    "# ANALISIS DE DUPLICADOS, VALORES FALTANTES (STRING VACIOS) ,VALORES NULOS Y TIPOS DE DATOS"
   ]
  },
  {
   "cell_type": "code",
   "execution_count": 17,
   "metadata": {},
   "outputs": [],
   "source": [
    "cover_popu= pd.read_excel('../Datasets/Internet.xlsx',sheet_name='Penetracion-poblacion')\n",
    "cover_homes= pd.read_excel('../Datasets/Internet.xlsx',sheet_name='Penetracion-hogares')\n",
    "total_cover= pd.read_excel('../Datasets/Internet.xlsx',sheet_name='Penetracion-totales')\n",
    "total_acc_tec = pd.read_excel('../Datasets/Internet.xlsx',sheet_name='Totales Accesos Por Tecnología')\n",
    "acc_tec = pd.read_excel('../Datasets/Internet.xlsx',sheet_name='Accesos Por Tecnología')\n",
    "total_acc_vec = pd.read_excel('../Datasets/Internet.xlsx',sheet_name='Totales Accesos por velocidad')\n",
    "ingresos = pd.read_excel('../Datasets/Internet.xlsx',sheet_name='Ingresos')\n",
    "mapa_connect=pd.read_excel('../Datasets/mapa_conectividad.xlsx')\n",
    "ingresos_TV = pd.read_excel('../Datasets/Television.xlsx', sheet_name='Ingresos_TV')\n",
    "cover_TV = pd.read_excel('../Datasets/Television.xlsx', sheet_name='Penetracion_prov_TV')\n",
    "ingresos_tel_fija= pd.read_excel('../Datasets/telefonia_fija.xlsx', sheet_name='Fija_ingresos')\n",
    "cover_tel_fija= pd.read_excel('../Datasets/telefonia_fija.xlsx', sheet_name='Fija_penetracion_prov')\n",
    "ingresos_movil = pd.read_excel('../Datasets/Telefonia_movil.xlsx', sheet_name='Ingresos')\n",
    "cover_movil = pd.read_excel('../Datasets/Telefonia_movil.xlsx', sheet_name='Penetracion')\n",
    "total_VMD= pd.read_excel('../Datasets/Internet.xlsx',sheet_name='Totales VMD')"
   ]
  },
  {
   "cell_type": "code",
   "execution_count": 18,
   "metadata": {},
   "outputs": [],
   "source": [
    "datasets = [cover_popu,cover_homes,total_cover,total_acc_tec,acc_tec,total_acc_vec,ingresos,mapa_connect,ingresos_TV, cover_TV,ingresos_tel_fija,cover_tel_fija,ingresos_movil,cover_movil,total_VMD]"
   ]
  },
  {
   "cell_type": "markdown",
   "metadata": {},
   "source": [
    "## CONTEO DUPLICADOS"
   ]
  },
  {
   "cell_type": "code",
   "execution_count": 19,
   "metadata": {},
   "outputs": [
    {
     "name": "stdout",
     "output_type": "stream",
     "text": [
      "Duplicados en cada dataset:\n",
      "0\n",
      "0\n",
      "0\n",
      "0\n",
      "0\n",
      "0\n",
      "0\n",
      "0\n",
      "0\n",
      "0\n",
      "0\n",
      "0\n",
      "0\n",
      "0\n",
      "0\n"
     ]
    }
   ],
   "source": [
    "print(\"Duplicados en cada dataset:\")\n",
    "for i in datasets:\n",
    "    print(i.duplicated().sum())\n",
    "    "
   ]
  },
  {
   "cell_type": "markdown",
   "metadata": {},
   "source": [
    "## CONTEO VALORES FALTANTES (STRING VACIOS)"
   ]
  },
  {
   "cell_type": "code",
   "execution_count": 20,
   "metadata": {},
   "outputs": [
    {
     "name": "stdout",
     "output_type": "stream",
     "text": [
      "Total de strings vacíos en todos los datasets: 0\n"
     ]
    }
   ],
   "source": [
    "def count_total_empty_strings(datasets):\n",
    "    total_empty_strings = 0\n",
    "    for i in datasets:\n",
    "        if isinstance(i, pd.DataFrame):\n",
    "            total_empty_strings += i.apply(lambda x: (x == \"\").sum()).sum()\n",
    "        else:\n",
    "            print(f\"El elemento no es un DataFrame: {type(i)}\")\n",
    "    return total_empty_strings\n",
    "\n",
    "# Llamada a la función\n",
    "total_empty = count_total_empty_strings(datasets)\n",
    "print(f\"Total de strings vacíos en todos los datasets: {total_empty}\")\n"
   ]
  },
  {
   "cell_type": "markdown",
   "metadata": {},
   "source": [
    "## CONTEO VALORES NULOS"
   ]
  },
  {
   "cell_type": "code",
   "execution_count": 21,
   "metadata": {},
   "outputs": [],
   "source": [
    "datasets = {\n",
    "    \"cover_popu\": cover_popu,\n",
    "    \"cover_homes\": cover_homes,\n",
    "    \"total_cover\": total_cover,\n",
    "    \"total_acc_tec\": total_acc_tec,\n",
    "    \"acc_tec\": acc_tec,\n",
    "    \"total_acc_vec\": total_acc_vec,\n",
    "    \"ingresos\": ingresos,\n",
    "    \"mapa_connect\": mapa_connect,\n",
    "    \"ingresos_TV\": ingresos_TV,\n",
    "    \"cover_TV\": cover_TV,\n",
    "    \"ingresos_tel_fija\": ingresos_tel_fija,\n",
    "    \"ingresos_movil\": ingresos_movil,\n",
    "    \"cover_movil\": cover_movil,\n",
    "    \"total_VMD\": total_VMD\n",
    "}"
   ]
  },
  {
   "cell_type": "code",
   "execution_count": 22,
   "metadata": {},
   "outputs": [
    {
     "name": "stdout",
     "output_type": "stream",
     "text": [
      "cover_popu - Nulos: 0\n",
      "cover_homes - Nulos: 0\n",
      "total_cover - Nulos: 0\n",
      "total_acc_tec - Nulos: 0\n",
      "acc_tec - Nulos: 16\n",
      "total_acc_vec - Nulos: 0\n",
      "ingresos - Nulos: 0\n",
      "mapa_connect - Nulos: 12\n",
      "ingresos_TV - Nulos: 0\n",
      "cover_TV - Nulos: 0\n",
      "ingresos_tel_fija - Nulos: 0\n",
      "ingresos_movil - Nulos: 0\n",
      "cover_movil - Nulos: 0\n",
      "total_VMD - Nulos: 0\n"
     ]
    }
   ],
   "source": [
    "\n",
    "for name, dataset in datasets.items():\n",
    "    # Calcular el número total de nulos en todo el dataset\n",
    "    total_nulls = dataset.isnull().sum().sum()\n",
    "    print(f\"{name} - Nulos: {total_nulls}\")"
   ]
  },
  {
   "cell_type": "markdown",
   "metadata": {},
   "source": [
    "## OBS: CORRECION DE NULOS EN DATASETS: acc_tec y mapa_connect"
   ]
  },
  {
   "cell_type": "markdown",
   "metadata": {},
   "source": [
    "## >> Chequeo nulos en Acc_tec"
   ]
  },
  {
   "cell_type": "code",
   "execution_count": 23,
   "metadata": {},
   "outputs": [
    {
     "data": {
      "text/plain": [
       "Año             1\n",
       "Trimestre       1\n",
       "Provincia       2\n",
       "ADSL            2\n",
       "Cablemodem      2\n",
       "Fibra óptica    2\n",
       "Wireless        2\n",
       "Otros           2\n",
       "Total           2\n",
       "dtype: int64"
      ]
     },
     "execution_count": 23,
     "metadata": {},
     "output_type": "execute_result"
    }
   ],
   "source": [
    "acc_tec.isnull().sum()"
   ]
  },
  {
   "cell_type": "code",
   "execution_count": 24,
   "metadata": {},
   "outputs": [],
   "source": [
    "acc_tec= acc_tec.dropna(subset=['Año', 'Trimestre', 'Provincia','Total'])"
   ]
  },
  {
   "cell_type": "code",
   "execution_count": 25,
   "metadata": {},
   "outputs": [
    {
     "data": {
      "text/plain": [
       "Año             0\n",
       "Trimestre       0\n",
       "Provincia       0\n",
       "ADSL            0\n",
       "Cablemodem      0\n",
       "Fibra óptica    0\n",
       "Wireless        0\n",
       "Otros           0\n",
       "Total           0\n",
       "dtype: int64"
      ]
     },
     "execution_count": 25,
     "metadata": {},
     "output_type": "execute_result"
    }
   ],
   "source": [
    "acc_tec.isnull().sum()"
   ]
  },
  {
   "cell_type": "markdown",
   "metadata": {},
   "source": [
    "## >> Chequeo nulos en mapa connect"
   ]
  },
  {
   "cell_type": "code",
   "execution_count": 26,
   "metadata": {},
   "outputs": [
    {
     "data": {
      "text/plain": [
       "Provincia          0\n",
       "Partido            0\n",
       "Localidad          0\n",
       "Población          0\n",
       "ADSL               0\n",
       "Cablemódem         0\n",
       "Dial Up            0\n",
       "Fibra óptica       0\n",
       "Satelital          0\n",
       "Wireless           0\n",
       "Telefonía Fija     0\n",
       "3G                 0\n",
       "4G                 0\n",
       "Link              12\n",
       "Latitud            0\n",
       "Longitud           0\n",
       "dtype: int64"
      ]
     },
     "execution_count": 26,
     "metadata": {},
     "output_type": "execute_result"
    }
   ],
   "source": [
    "mapa_connect.isnull().sum()"
   ]
  },
  {
   "cell_type": "code",
   "execution_count": 27,
   "metadata": {},
   "outputs": [],
   "source": [
    "# Rellenar los valores NaN con 0 en la columna 'Otros'\n",
    "mapa_connect['Link'] = mapa_connect['Link'].fillna(0)"
   ]
  },
  {
   "cell_type": "markdown",
   "metadata": {},
   "source": [
    "## TAMAÑO DE CADA DATASET"
   ]
  },
  {
   "cell_type": "code",
   "execution_count": 28,
   "metadata": {},
   "outputs": [
    {
     "name": "stdout",
     "output_type": "stream",
     "text": [
      "Tamaño de cada dataset\n",
      "cover_popu : (984, 4)\n",
      "cover_homes : (984, 4)\n",
      "total_cover : (41, 5)\n",
      "total_acc_tec : (41, 9)\n",
      "acc_tec : (986, 9)\n",
      "total_acc_vec : (41, 11)\n",
      "ingresos : (41, 4)\n",
      "mapa_connect : (4305, 16)\n",
      "ingresos_TV : (41, 4)\n",
      "cover_TV : (984, 5)\n",
      "ingresos_tel_fija : (41, 3)\n",
      "ingresos_movil : (45, 4)\n",
      "cover_movil : (45, 4)\n",
      "total_VMD : (41, 4)\n"
     ]
    }
   ],
   "source": [
    "print(\"Tamaño de cada dataset\")\n",
    "for name, dataset in datasets.items():\n",
    "    # Obtener el tamaño del dataset\n",
    "    dataset_shape = dataset.shape\n",
    "    print(f\"{name} : {dataset_shape}\")\n"
   ]
  },
  {
   "cell_type": "markdown",
   "metadata": {},
   "source": [
    "______________________________________________________________________________________________________________________________________________________"
   ]
  },
  {
   "cell_type": "markdown",
   "metadata": {},
   "source": [
    "# 1C. Normalizacion de variables de cada dataset al tipo adecuado "
   ]
  },
  {
   "cell_type": "markdown",
   "metadata": {},
   "source": [
    "# VERIFICACION DE LOS TIPOS DE DATOS EN EL DATASET"
   ]
  },
  {
   "cell_type": "markdown",
   "metadata": {},
   "source": [
    "## -- Normalizacion de fechas a AA-MM-DD en columnas periodo/trimestre"
   ]
  },
  {
   "cell_type": "code",
   "execution_count": 29,
   "metadata": {},
   "outputs": [],
   "source": [
    "month_mapping = {\n",
    "    'Ene': '01',\n",
    "    'Feb': '02',\n",
    "    'Mar': '03',\n",
    "    'Abr': '04',\n",
    "    'May': '05',\n",
    "    'Jun': '06',\n",
    "    'Jul': '07',\n",
    "    'Ago': '08',\n",
    "    'Sept': '09',\n",
    "    'Oct': '10',\n",
    "    'Nov': '11',\n",
    "    'Dic': '12'\n",
    "}\n",
    "\n",
    "# Function to extract the start date\n",
    "def extract_start_date(period):\n",
    "    parts = period.split(' ')\n",
    "    year = parts[1]\n",
    "    month_abbr = parts[0].split('-')[0]\n",
    "    month = month_mapping[month_abbr]\n",
    "    return f\"{year}-{month}-01\"\n",
    "\n",
    "# Apply the function to the Periodo column\n",
    "ingresos['Inicio semestre'] = ingresos['Periodo'].apply(extract_start_date)\n",
    "total_acc_tec['Inicio semestre'] = total_acc_tec['Periodo'].apply(extract_start_date)\n",
    "total_cover['Inicio semestre'] = total_cover['Periodo'].apply(extract_start_date)\n",
    "ingresos_movil['Inicio semestre']= ingresos_movil['Periodo'].apply(extract_start_date)\n",
    "cover_movil['Inicio semestre']= cover_movil['Periodo'].apply(extract_start_date)\n"
   ]
  },
  {
   "cell_type": "markdown",
   "metadata": {},
   "source": [
    "## CAMBIO DE TIPO DE VARIABLES EN EL DATAFRAME"
   ]
  },
  {
   "cell_type": "markdown",
   "metadata": {},
   "source": [
    "-- DATASET: mapa_connect // 3 columnas conversion a string type"
   ]
  },
  {
   "cell_type": "code",
   "execution_count": 30,
   "metadata": {},
   "outputs": [
    {
     "data": {
      "text/plain": [
       "Provincia          object\n",
       "Partido            object\n",
       "Localidad          object\n",
       "Población           int64\n",
       "ADSL               object\n",
       "Cablemódem         object\n",
       "Dial Up            object\n",
       "Fibra óptica       object\n",
       "Satelital          object\n",
       "Wireless           object\n",
       "Telefonía Fija     object\n",
       "3G                 object\n",
       "4G                 object\n",
       "Link              float64\n",
       "Latitud           float64\n",
       "Longitud          float64\n",
       "dtype: object"
      ]
     },
     "execution_count": 30,
     "metadata": {},
     "output_type": "execute_result"
    }
   ],
   "source": [
    "mapa_connect.dtypes"
   ]
  },
  {
   "cell_type": "code",
   "execution_count": 31,
   "metadata": {},
   "outputs": [],
   "source": [
    "mapa_connect['Provincia'] = mapa_connect['Provincia'].astype(str)\n",
    "mapa_connect['Partido'] = mapa_connect['Partido'].astype(str)\n",
    "mapa_connect['Localidad'] = mapa_connect['Localidad'].astype(str)"
   ]
  },
  {
   "cell_type": "markdown",
   "metadata": {},
   "source": [
    "-- DATASET: cover_popu // 1 columna conversion a string type"
   ]
  },
  {
   "cell_type": "code",
   "execution_count": 32,
   "metadata": {},
   "outputs": [
    {
     "data": {
      "text/plain": [
       "Año                           int64\n",
       "Trimestre                     int64\n",
       "Provincia                    object\n",
       "Accesos por cada 100 hab    float64\n",
       "dtype: object"
      ]
     },
     "execution_count": 32,
     "metadata": {},
     "output_type": "execute_result"
    }
   ],
   "source": [
    "cover_popu.dtypes"
   ]
  },
  {
   "cell_type": "code",
   "execution_count": 33,
   "metadata": {},
   "outputs": [],
   "source": [
    "cover_popu['Provincia'] = cover_popu['Provincia'].astype(str)"
   ]
  },
  {
   "cell_type": "markdown",
   "metadata": {},
   "source": [
    "-- DATASET: total_cover // 2 columnas: (1 conversion a string type) & (1 conversion a datetime64[D] \"para omitir unidades de tiempo\")"
   ]
  },
  {
   "cell_type": "code",
   "execution_count": 34,
   "metadata": {},
   "outputs": [
    {
     "data": {
      "text/plain": [
       "Año                               int64\n",
       "Trimestre                         int64\n",
       "Accesos por cada 100 hogares    float64\n",
       "Accesos por cada 100 hab        float64\n",
       "Periodo                          object\n",
       "Inicio semestre                  object\n",
       "dtype: object"
      ]
     },
     "execution_count": 34,
     "metadata": {},
     "output_type": "execute_result"
    }
   ],
   "source": [
    "total_cover.dtypes"
   ]
  },
  {
   "cell_type": "code",
   "execution_count": 35,
   "metadata": {},
   "outputs": [],
   "source": [
    "total_cover['Periodo']= total_cover['Periodo'].astype(str)\n",
    "total_cover['Inicio semestre']= total_cover['Inicio semestre'].astype('datetime64[D]')"
   ]
  },
  {
   "cell_type": "markdown",
   "metadata": {},
   "source": [
    "-- DATASET: total_acc_tec // 2 columnas: (1 conversion a string type) & (1 conversion a datetime64[D] \"para omitir unidades de tiempo\")"
   ]
  },
  {
   "cell_type": "code",
   "execution_count": 36,
   "metadata": {},
   "outputs": [
    {
     "data": {
      "text/plain": [
       "Año                 int64\n",
       "Trimestre           int64\n",
       "ADSL                int64\n",
       "Cablemodem          int64\n",
       "Fibra óptica        int64\n",
       "Wireless            int64\n",
       "Otros               int64\n",
       "Total               int64\n",
       "Periodo            object\n",
       "Inicio semestre    object\n",
       "dtype: object"
      ]
     },
     "execution_count": 36,
     "metadata": {},
     "output_type": "execute_result"
    }
   ],
   "source": [
    "total_acc_tec.dtypes"
   ]
  },
  {
   "cell_type": "code",
   "execution_count": 37,
   "metadata": {},
   "outputs": [],
   "source": [
    "total_acc_tec['Periodo']= total_acc_tec['Periodo'].astype(str)\n",
    "total_acc_tec['Inicio semestre']= total_acc_tec['Inicio semestre'].astype('datetime64[D]')"
   ]
  },
  {
   "cell_type": "markdown",
   "metadata": {},
   "source": [
    "-- DATASET: acc_tec // 2 columnas: (1 conversion a int normalizacion de trimestre) & (1 conversion a string type)"
   ]
  },
  {
   "cell_type": "code",
   "execution_count": 38,
   "metadata": {},
   "outputs": [
    {
     "data": {
      "text/plain": [
       "Año              object\n",
       "Trimestre        object\n",
       "Provincia        object\n",
       "ADSL            float64\n",
       "Cablemodem      float64\n",
       "Fibra óptica    float64\n",
       "Wireless        float64\n",
       "Otros           float64\n",
       "Total           float64\n",
       "dtype: object"
      ]
     },
     "execution_count": 38,
     "metadata": {},
     "output_type": "execute_result"
    }
   ],
   "source": [
    "acc_tec.dtypes"
   ]
  },
  {
   "cell_type": "code",
   "execution_count": 39,
   "metadata": {},
   "outputs": [],
   "source": [
    "# Eliminacion de caracteres foraneos\n",
    "acc_tec['Trimestre'] = acc_tec['Trimestre'].str.replace(r'\\D', '', regex=True)\n",
    "# Conversion de no numericos a Nan\n",
    "acc_tec['Trimestre'] = pd.to_numeric(acc_tec['Trimestre'], errors='coerce')\n",
    "# Eliminacion de filas Nan\n",
    "acc_tec = acc_tec.dropna(subset=['Trimestre'])\n",
    "acc_tec['Trimestre']= acc_tec['Trimestre'].astype(int)\n",
    "acc_tec['Provincia']= acc_tec['Provincia'].astype(str)"
   ]
  },
  {
   "cell_type": "markdown",
   "metadata": {},
   "source": [
    "-- DATASET: total_acc_vec // 0 conversiones"
   ]
  },
  {
   "cell_type": "code",
   "execution_count": 40,
   "metadata": {},
   "outputs": [
    {
     "data": {
      "text/plain": [
       "Año                        int64\n",
       "Trimestre                  int64\n",
       "Hasta 512 kbps             int64\n",
       "Entre 512 Kbps y 1 Mbps    int64\n",
       "Entre 1 Mbps y 6 Mbps      int64\n",
       "Entre 6 Mbps y 10 Mbps     int64\n",
       "Entre 10 Mbps y 20 Mbps    int64\n",
       "Entre 20 Mbps y 30 Mbps    int64\n",
       "Más de 30 Mbps             int64\n",
       "OTROS                      int64\n",
       "Total                      int64\n",
       "dtype: object"
      ]
     },
     "execution_count": 40,
     "metadata": {},
     "output_type": "execute_result"
    }
   ],
   "source": [
    "total_acc_vec.dtypes"
   ]
  },
  {
   "cell_type": "markdown",
   "metadata": {},
   "source": [
    "-- DATASET: ingresos // 1 columna conversion a datetime64[D] para omitir unidades de tiempo solo formato fecha"
   ]
  },
  {
   "cell_type": "code",
   "execution_count": 41,
   "metadata": {},
   "outputs": [
    {
     "data": {
      "text/plain": [
       "Año                            int64\n",
       "Trimestre                      int64\n",
       "Ingresos (miles de pesos)    float64\n",
       "Periodo                       object\n",
       "Inicio semestre               object\n",
       "dtype: object"
      ]
     },
     "execution_count": 41,
     "metadata": {},
     "output_type": "execute_result"
    }
   ],
   "source": [
    "ingresos.dtypes"
   ]
  },
  {
   "cell_type": "code",
   "execution_count": 42,
   "metadata": {},
   "outputs": [],
   "source": [
    "ingresos['Inicio semestre']= ingresos['Inicio semestre'].astype('datetime64[D]')"
   ]
  },
  {
   "cell_type": "markdown",
   "metadata": {},
   "source": [
    "-- DATASET: ingresos_TV // 0 conversiones"
   ]
  },
  {
   "cell_type": "code",
   "execution_count": 43,
   "metadata": {},
   "outputs": [
    {
     "data": {
      "text/plain": [
       "Año                                            int64\n",
       "Trimestre                                      int64\n",
       "Ingresos TV por suscripción  (miles de $)    float64\n",
       "Ingresos TV satelital (miles de $)           float64\n",
       "dtype: object"
      ]
     },
     "execution_count": 43,
     "metadata": {},
     "output_type": "execute_result"
    }
   ],
   "source": [
    "ingresos_TV.dtypes"
   ]
  },
  {
   "cell_type": "markdown",
   "metadata": {},
   "source": [
    "-- DATASET: ingresos_TV // 1 columna conversion a string type"
   ]
  },
  {
   "cell_type": "code",
   "execution_count": 44,
   "metadata": {},
   "outputs": [
    {
     "data": {
      "text/plain": [
       "Año                                                  int64\n",
       "Trimestre                                            int64\n",
       "Provincia                                           object\n",
       "Accesos TV por suscripción por cada 100 hab        float64\n",
       "Accesos TV por suscripción por cada 100 hogares    float64\n",
       "dtype: object"
      ]
     },
     "execution_count": 44,
     "metadata": {},
     "output_type": "execute_result"
    }
   ],
   "source": [
    "cover_TV.dtypes"
   ]
  },
  {
   "cell_type": "code",
   "execution_count": 45,
   "metadata": {},
   "outputs": [],
   "source": [
    "cover_TV['Provincia'] = cover_TV['Provincia'].astype(str)"
   ]
  },
  {
   "cell_type": "markdown",
   "metadata": {},
   "source": [
    "-- DATASET: ingresos_tel_fija // 0 conversiones"
   ]
  },
  {
   "cell_type": "code",
   "execution_count": 46,
   "metadata": {},
   "outputs": [
    {
     "data": {
      "text/plain": [
       "Año                        int64\n",
       "Trimestre                  int64\n",
       "Ingresos (miles de $)    float64\n",
       "dtype: object"
      ]
     },
     "execution_count": 46,
     "metadata": {},
     "output_type": "execute_result"
    }
   ],
   "source": [
    "ingresos_tel_fija.dtypes"
   ]
  },
  {
   "cell_type": "markdown",
   "metadata": {},
   "source": [
    "-- DATASET: ingresos_movil // 2 columnas: (1 conversion a string type) & (1 conversion datetime['D'] para omitir unidades de tiempo)"
   ]
  },
  {
   "cell_type": "code",
   "execution_count": 47,
   "metadata": {},
   "outputs": [
    {
     "data": {
      "text/plain": [
       "Año                       int64\n",
       "Trimestre                 int64\n",
       "Ingresos (miles de $)     int64\n",
       "Periodo                  object\n",
       "Inicio semestre          object\n",
       "dtype: object"
      ]
     },
     "execution_count": 47,
     "metadata": {},
     "output_type": "execute_result"
    }
   ],
   "source": [
    "ingresos_movil.dtypes"
   ]
  },
  {
   "cell_type": "code",
   "execution_count": 48,
   "metadata": {},
   "outputs": [],
   "source": [
    "ingresos_movil['Periodo'] = ingresos_movil['Periodo'].astype(str)\n",
    "ingresos_movil['Inicio semestre'] = ingresos_movil['Inicio semestre'].astype('datetime64[D]')"
   ]
  },
  {
   "cell_type": "markdown",
   "metadata": {},
   "source": [
    "-- DATASET: cover_movil // 2 columnas: (1 conversion a string type) & (1 conversion datetime['D'] para omitir unidades de tiempo)"
   ]
  },
  {
   "cell_type": "code",
   "execution_count": 49,
   "metadata": {},
   "outputs": [
    {
     "data": {
      "text/plain": [
       "Año                           int64\n",
       "Trimestre                     int64\n",
       "Accesos por cada 100 hab    float64\n",
       "Periodo                      object\n",
       "Inicio semestre              object\n",
       "dtype: object"
      ]
     },
     "execution_count": 49,
     "metadata": {},
     "output_type": "execute_result"
    }
   ],
   "source": [
    "cover_movil.dtypes"
   ]
  },
  {
   "cell_type": "code",
   "execution_count": 50,
   "metadata": {},
   "outputs": [],
   "source": [
    "cover_movil['Periodo'] = cover_movil['Periodo'].astype(str)\n",
    "cover_movil['Inicio semestre'] = cover_movil['Inicio semestre'].astype('datetime64[D]')"
   ]
  },
  {
   "cell_type": "markdown",
   "metadata": {},
   "source": [
    "______________________________________________________________________________________________________________________________________________________"
   ]
  },
  {
   "cell_type": "markdown",
   "metadata": {},
   "source": [
    "# 1D. CARGA DE DATOS LISTOS PARA EDA"
   ]
  },
  {
   "cell_type": "code",
   "execution_count": 51,
   "metadata": {},
   "outputs": [],
   "source": [
    "cover_popu.to_excel(\"../Datasets/Clean_data/cl_cover_popu.xlsx\", index=False)\n",
    "cover_homes.to_excel(\"../Datasets/Clean_data/cl_cover_homes.xlsx\", index=False)\n",
    "total_cover.to_excel(\"../Datasets/Clean_data/cl_total_cover.xlsx\", index=False)\n",
    "total_acc_tec.to_excel(\"../Datasets/Clean_data/cl_total_acc_tec.xlsx\", index=False)\n",
    "acc_tec.to_excel(\"../Datasets/Clean_data/cl_acc_tec.xlsx\", index=False) \n",
    "total_acc_vec.to_excel(\"../Datasets/Clean_data/cl_total_acc_vec.xlsx\", index=False) \n",
    "ingresos.to_excel(\"../Datasets/Clean_data/cl_ingresos.xlsx\", index=False) \n",
    "mapa_connect.to_excel(\"../Datasets/Clean_data/cl_mapa.xlsx\", index=False)\n",
    "ingresos_TV.to_excel(\"../Datasets/Clean_data/cl_ingresos_TV.xlsx\", index=False)\n",
    "cover_TV.to_excel(\"../Datasets/Clean_data/cl_cover_TV.xlsx\", index=False)\n",
    "ingresos_tel_fija.to_excel(\"../Datasets/Clean_data/cl_ingresos_tel_fija.xlsx\", index=False)\n",
    "ingresos_movil.to_excel(\"../Datasets/Clean_data/cl_ingresos_movil.xlsx\", index=False)\n",
    "cover_movil.to_excel(\"../Datasets/Clean_data/cl_cover_movil.xlsx\", index=False)\n",
    "total_VMD.to_excel(\"../Datasets/Clean_data/cl_totales_VMD.xlsx\", index=False)"
   ]
  }
 ],
 "metadata": {
  "kernelspec": {
   "display_name": "Python 3",
   "language": "python",
   "name": "python3"
  },
  "language_info": {
   "codemirror_mode": {
    "name": "ipython",
    "version": 3
   },
   "file_extension": ".py",
   "mimetype": "text/x-python",
   "name": "python",
   "nbconvert_exporter": "python",
   "pygments_lexer": "ipython3",
   "version": "3.10.5"
  }
 },
 "nbformat": 4,
 "nbformat_minor": 2
}
